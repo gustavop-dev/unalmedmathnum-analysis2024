{
 "cells": [
  {
   "cell_type": "code",
   "execution_count": 3,
   "id": "ac09a4c2-6a09-42c3-ab60-dfc8be37e712",
   "metadata": {},
   "outputs": [],
   "source": [
    "def hermite_interpolation(x, points):\n",
    "    \"\"\"\n",
    "    Perform Hermite interpolation to compute the value of the interpolating polynomial at a given point.\n",
    "\n",
    "    Parameters:\n",
    "    - x: The point at which to evaluate the interpolating polynomial.\n",
    "    - points: A list of tuples [(x0, y0, z0), (x1, y1, z1), ..., (xn, yn, zn)].\n",
    "              Each tuple contains the x-coordinate (x), the function value (y), \n",
    "              and the derivative value (z) at that x-coordinate.\n",
    "\n",
    "    Returns:\n",
    "    - polynomial_value: The value of the Hermite interpolating polynomial at x.\n",
    "    \"\"\"\n",
    "    \n",
    "    # Number of points used in interpolation\n",
    "    k = 2 * len(points) # Hermite interpolation doubles the points for each value due to derivatives\n",
    "\n",
    "    # Initialize a 2D table for divided differences, filled with zeros\n",
    "    div_diff = [[0 for i in range(k)] for j in range(k)]\n",
    "\n",
    "    # Diagonal elements are the function values\n",
    "    for i in range(k):\n",
    "        div_diff[i][i] = points[i//2][1]\n",
    "\n",
    "    # Compute the first-order divided differences\n",
    "    for i in range(k-1):\n",
    "        if i % 2 == 0:\n",
    "            # For repeated nodes, use the provided derivative value\n",
    "            div_diff[i][i+1] = points[i//2][2]\n",
    "        else:\n",
    "            # For unique nodes, compute the divided difference normally\n",
    "            div_diff[i][i+1] = (div_diff[i+1][i+1] - div_diff[i][i]) / (points[(i+1)//2][0] - points[i//2][0])\n",
    "\n",
    "\n",
    "    # Compute higher-order divided differences normally\n",
    "    for i in range(k-3, -1, -1):\n",
    "        for j in range(i+2, k):    \n",
    "            div_diff[i][j] = (div_diff[i+1][j] - div_diff[i][j-1]) / (points[j//2][0] - points[i//2][0])\n",
    "        \n",
    "    # Evaluate the Hermite interpolating polynomial at x\n",
    "    polynomial_value = 0\n",
    "    for i in range(k):\n",
    "        # Start with the i-th coefficient from the divided differences table\n",
    "        polynomial_term = div_diff[0][i]\n",
    "        # Multiply by the terms (x - x0), (x - x1), ..., up to (x - x(i-1))\n",
    "        for j in range(i):\n",
    "            polynomial_term *= x - points[j//2][0]\n",
    "        polynomial_value += polynomial_term # Add the term to the polynomial\n",
    "\n",
    "    return polynomial_value # Return the result"
   ]
  },
  {
   "cell_type": "code",
   "execution_count": 4,
   "id": "596e5095-3904-4c66-94ea-bbea65912301",
   "metadata": {},
   "outputs": [
    {
     "name": "stdout",
     "output_type": "stream",
     "text": [
      "0.5118277017283951\n"
     ]
    }
   ],
   "source": [
    "# Example usage\n",
    "x = 1.5\n",
    "points = [(1.3, 0.6200860, -0.5220232), (1.6, 0.4554022, -0.5698959), (1.9, 0.2818186, -0.5811571)]\n",
    "print(hermite_interpolation(x, points))"
   ]
  },
  {
   "cell_type": "code",
   "execution_count": null,
   "id": "4258cff4-ba4f-417f-88f9-32c47bf985e5",
   "metadata": {},
   "outputs": [],
   "source": []
  }
 ],
 "metadata": {
  "kernelspec": {
   "display_name": "Python 3 (ipykernel)",
   "language": "python",
   "name": "python3"
  },
  "language_info": {
   "codemirror_mode": {
    "name": "ipython",
    "version": 3
   },
   "file_extension": ".py",
   "mimetype": "text/x-python",
   "name": "python",
   "nbconvert_exporter": "python",
   "pygments_lexer": "ipython3",
   "version": "3.10.1"
  }
 },
 "nbformat": 4,
 "nbformat_minor": 5
}
