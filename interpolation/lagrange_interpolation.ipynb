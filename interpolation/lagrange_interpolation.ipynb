{
 "cells": [
  {
   "cell_type": "code",
   "execution_count": 7,
   "id": "60423bcf-c0b8-4240-95f8-7099ddd5e815",
   "metadata": {},
   "outputs": [],
   "source": [
    "def lagrange_basis(x, i, points):\n",
    "    \"\"\"\n",
    "    Computes the Lagrange basis polynomial ℓᵢ(x) for the i-th interpolation node.\n",
    "    \n",
    "    Parameters:\n",
    "    - x (float): The point at which ℓᵢ(x) will be evaluated.\n",
    "    - i (int): The index of the interpolation node for which we compute ℓᵢ(x).\n",
    "    - points (list of tuples): A list of (x_j, y_j) nodes for interpolation.\n",
    "\n",
    "    Returns:\n",
    "    - L (float): The value of the Lagrange basis polynomial ℓᵢ(x).\n",
    "    \"\"\"\n",
    "    xi, _ = points[i]\n",
    "    L = 1.0\n",
    "\n",
    "    for j, (xj, _) in enumerate(points):\n",
    "        if j != i:\n",
    "            # Check for a potential zero denominator (if xi == xj)\n",
    "            if abs(xi - xj) < 1e-15:\n",
    "                raise ValueError(f\"Duplicate x-values detected: x_{i} = x_{j} = {xi}\")\n",
    "\n",
    "            # Multiply by the factor (x - xj) / (xi - xj)\n",
    "            L *= (x - xj) / (xi - xj)\n",
    "\n",
    "    return L\n",
    "\n",
    "\n",
    "def lagrange_interpolation(x, points, tol=1e-12):\n",
    "    \"\"\"\n",
    "    Performs Lagrange interpolation to compute the value of the interpolating polynomial at a given point x.\n",
    "\n",
    "    Parameters:\n",
    "    - x (float): The point at which to evaluate the interpolating polynomial.\n",
    "    - points (list of tuples): A list of (x_i, y_i) nodes for interpolation, \n",
    "                               e.g., [(x0, y0), (x1, y1), ..., (xn, yn)].\n",
    "    - tol (float): A tolerance to determine if x is \"close enough\" to an interpolation node.\n",
    "\n",
    "    Returns:\n",
    "    - polynomial_value (float): The value of the Lagrange interpolating polynomial at x.\n",
    "    \"\"\"\n",
    "    # 1. Basic validations\n",
    "    if not points:\n",
    "        raise ValueError(\"The list of points cannot be empty.\")\n",
    "\n",
    "    if len(points) == 1:\n",
    "        # If there is only one point, the interpolating polynomial is constant\n",
    "        return points[0][1]\n",
    "    \n",
    "    # 2. Quick check: if x is (within tol) equal to any node, return the corresponding y-value\n",
    "    for (xi, yi) in points:\n",
    "        if abs(x - xi) < tol:\n",
    "            return yi\n",
    "\n",
    "    # 3. Compute the Lagrange interpolation polynomial\n",
    "    polynomial_value = 0.0\n",
    "    k = len(points)\n",
    "\n",
    "    for i in range(k):\n",
    "        # Compute the Lagrange basis ℓᵢ(x)\n",
    "        Li = lagrange_basis(x, i, points)\n",
    "        # Add its contribution: yᵢ * ℓᵢ(x)\n",
    "        polynomial_value += points[i][1] * Li\n",
    "    \n",
    "    return polynomial_value\n",
    "    "
   ]
  },
  {
   "cell_type": "code",
   "execution_count": 8,
   "id": "e47e2fb9-a36b-4344-929a-bedbf13e16f1",
   "metadata": {},
   "outputs": [
    {
     "name": "stdout",
     "output_type": "stream",
     "text": [
      "0.5118199942386832\n"
     ]
    }
   ],
   "source": [
    "# Example usage\n",
    "if __name__ == \"__main__\":\n",
    "    x_eval = 1.5\n",
    "    points_example = [\n",
    "        (1.0, 0.7651977),\n",
    "        (1.3, 0.6200860),\n",
    "        (1.6, 0.4554022),\n",
    "        (1.9, 0.2818186),\n",
    "        (2.2, 0.1103623)\n",
    "    ]\n",
    "\n",
    "    result = lagrange_interpolation(x_eval, points_example)\n",
    "    print(\"Interpolated value at x =\", x_eval, \":\", result)"
   ]
  }
 ],
 "metadata": {
  "kernelspec": {
   "display_name": "Python 3 (ipykernel)",
   "language": "python",
   "name": "python3"
  },
  "language_info": {
   "codemirror_mode": {
    "name": "ipython",
    "version": 3
   },
   "file_extension": ".py",
   "mimetype": "text/x-python",
   "name": "python",
   "nbconvert_exporter": "python",
   "pygments_lexer": "ipython3",
   "version": "3.10.1"
  }
 },
 "nbformat": 4,
 "nbformat_minor": 5
}
